{
 "cells": [
  {
   "cell_type": "code",
   "execution_count": null,
   "id": "3d971fb4",
   "metadata": {},
   "outputs": [],
   "source": [
    "import numpy as np\n",
    "import pandas as pd\n",
    "import datetime as dt\n",
    "# Python SQL toolkit and Object Relational Mapper\n",
    "import sqlalchemy\n",
    "from sqlalchemy.ext.automap import automap_base\n",
    "from sqlalchemy.inspection import inspect\n",
    "from sqlalchemy.orm import Session\n",
    "from sqlalchemy import create_engine, func\n",
    "from flask import Flask,jsonify\n"
   ]
  },
  {
   "cell_type": "code",
   "execution_count": null,
   "id": "db5d06a7",
   "metadata": {},
   "outputs": [],
   "source": [
    "# create engine to hawaii.sqlite\n",
    "engine = create_engine(\"sqlite:///hawaii.sqlite\")\n",
    "\n",
    "Base = automap_base()\n",
    "Base.prepare(engine, reflect=True)\n",
    "\n",
    "Station = Base.classes.station\n",
    "Measurement = Base.classes.measurement"
   ]
  },
  {
   "cell_type": "code",
   "execution_count": null,
   "id": "19744c0d",
   "metadata": {},
   "outputs": [],
   "source": [
    "# Create our session (link) from Python to the DB\n",
    "session = Session(engine)\n",
    "\n",
    "# Find the most recent date in the data set.\n",
    "Last_date_str = session.query(Measurement.date).order_by(Measurement.date.desc()).first()[0]\n",
    "Last_date = dt.date.fromisoformat(Last_date_str)\n",
    "\n",
    "# Calculate the date one year from the last date in data set.\n",
    "Prev_Last_date = dt.date(Last_date.year-1,Last_date.month,Last_date.day)\n",
    "Prev_Last_date"
   ]
  },
  {
   "cell_type": "code",
   "execution_count": null,
   "id": "de9d5f3e",
   "metadata": {},
   "outputs": [],
   "source": [
    "# Perform a query to retrieve the data and precipitation scores\n",
    "ann_prcp = session.query(Measurement.date,func.max(Measurement.prcp)).\\\n",
    "    filter(Measurement.date >= func.strftime(\"%Y-%m-%d\",Prev_Last_date)).\\\n",
    "    group_by(Measurement.date).\\\n",
    "    order_by(Measurement.date).all()"
   ]
  },
  {
   "cell_type": "code",
   "execution_count": null,
   "id": "9598ae63",
   "metadata": {},
   "outputs": [],
   "source": [
    "# Save the query results as a Pandas DataFrame and set the index to the date column\n",
    "df = pd.DataFrame(ann_prcp, columns=['date', 'prcp'])\n",
    "df.set_index('date', inplace=True)"
   ]
  },
  {
   "cell_type": "code",
   "execution_count": null,
   "id": "ea502301",
   "metadata": {},
   "outputs": [],
   "source": [
    "qy_ann_prcp = session.query(Measurement.date,Measurement.prcp).\\\n",
    "    filter(Measurement.date >= func.strftime(\"%Y-%m-%d\",Prev_Last_date)).\\\n",
    "    order_by(Measurement.date).all()\n",
    "\n",
    "df_ann_prcp = pd.DataFrame(qy_ann_prcp, columns=['date', 'prcp'])\n",
    "df_ann_prcp.set_index('date', inplace=True)\n",
    "df_ann_prcp\n",
    "ann_prcp_max = df_ann_prcp.groupby([\"date\"]).max()[\"prcp\"] \n",
    "ann_prcp_min = df_ann_prcp.groupby([\"date\"]).min()[\"prcp\"] \n",
    "ann_prcp_sum = df_ann_prcp.groupby([\"date\"]).sum()[\"prcp\"] \n",
    "ann_prcp_count = df_ann_prcp.groupby([\"date\"]).count()[\"prcp\"] \n",
    "\n",
    "dict_ann_prcp = {\"Max\": ann_prcp_max\n",
    "                 ,\"Min\":ann_prcp_min\n",
    "                 ,\"Sum\":ann_prcp_sum\n",
    "                 ,\"Count\":ann_prcp_count \n",
    "                }\n",
    "\n",
    "df_ann_prcp_summary = pd.DataFrame(dict_ann_prcp)\n",
    "df_ann_prcp_summary"
   ]
  },
  {
   "cell_type": "code",
   "execution_count": null,
   "id": "058827fb",
   "metadata": {},
   "outputs": [],
   "source": [
    "# Design a query to calculate the total number stations in the dataset\n",
    "active_stations = session.query(Station.station).count()\n",
    "active_stations\n",
    "# Design a query to find the most active stations (i.e. what stations have the most rows?)\n",
    "# List the stations and the counts in descending order.\n",
    "qry_most_active_stations = session.query(Measurement.station,func.count(Measurement.station)).\\\n",
    "    group_by(Measurement.station).\\\n",
    "    order_by(func.count(Measurement.station).desc())\n",
    "\n",
    "all_most_active_stations = qry_most_active_stations.all()\n",
    "all_most_active_stations"
   ]
  },
  {
   "cell_type": "code",
   "execution_count": null,
   "id": "82cc3cc7",
   "metadata": {},
   "outputs": [],
   "source": [
    "# Using the most active station id from the previous query, calculate the lowest, highest, and average temperature.\n",
    "most_active_station_id = qry_most_active_stations.first()[0]\n",
    "most_active_station_id\n",
    "\n",
    "temp_summ = session.query(func.min(Measurement.tobs),func.max(Measurement.tobs),func.avg(Measurement.tobs)).\\\n",
    "    filter(Measurement.station == most_active_station_id).all()\n",
    "\n",
    "temp_summ"
   ]
  },
  {
   "cell_type": "code",
   "execution_count": null,
   "id": "1decb5c9",
   "metadata": {},
   "outputs": [],
   "source": [
    "# Using the most active station id\n",
    "# Query the last 12 months of temperature observation data for this station and plot the results as a histogram\n",
    "\n",
    "qry_ann_tobs = session.query(Measurement.date,Measurement.tobs).\\\n",
    "    filter(Measurement.date >= func.strftime(\"%Y-%m-%d\",Prev_Last_date), Measurement.station == most_active_station_id).\\\n",
    "    order_by(Measurement.date).all()\n",
    "\n",
    "df_ann_tobs = pd.DataFrame(qry_ann_tobs, columns=['date', 'tobs'])\n",
    "df_ann_tobs.set_index('date', inplace=True)\n",
    "\n",
    "qryStations = session.query(Station.station,Station.name, Station.latitude, Station.longitude, Station.elevation).all()\n",
    "df_stations = pd.DataFrame(qryStations, columns=['station', 'name','latitude','longitude','elevation'])\n",
    "df_stations.set_index('station', inplace=True) \n"
   ]
  },
  {
   "cell_type": "code",
   "execution_count": null,
   "id": "01f2a090",
   "metadata": {},
   "outputs": [],
   "source": [
    "# Close Session\n",
    "session.close()"
   ]
  },
  {
   "cell_type": "code",
   "execution_count": null,
   "id": "95b47641",
   "metadata": {},
   "outputs": [],
   "source": [
    "app = Flask(__name__)\n",
    "\n",
    "@app.route(\"/\")\n",
    "def index():\n",
    "    return (\n",
    "        f\"Available Routes:<br/>\"\n",
    "        f\"/api/v1.0/precipitation<br/>\"\n",
    "        f\"/api/v1.0/stations<br/>\"\n",
    "        f\"/api/v1.0/tobs<br/>\"\n",
    "        f\"/api/v1.0/&lt;start&gt;<br/>\"\n",
    "        f\"/api/v1.0/&lt;start&gt;/&lt;end&gt;<br/>\"\n",
    "    )"
   ]
  },
  {
   "cell_type": "code",
   "execution_count": null,
   "id": "5c7979ad",
   "metadata": {},
   "outputs": [],
   "source": [
    "@app.route(\"/api/v1.0/precipitation\")\n",
    "def precipitation():\n",
    "    result={}\n",
    "    for index, row in df_ann_prcp_summary.iterrows():\n",
    "        result[index]=dict(row)\n",
    "    return jsonify(result) \n",
    "\n",
    "@app.route(\"/api/v1.0/stations\")\n",
    "def stations():\n",
    "    result={}\n",
    "    for index, row in df_stations.iterrows():\n",
    "        result[index]=dict(row)\n",
    "    return jsonify(result) \n",
    "\n",
    "@app.route(\"/api/v1.0/tobs\")\n",
    "def tobs():\n",
    "    result={}\n",
    "    for index, row in df_ann_tobs.iterrows():\n",
    "        result[index]=dict(row)   \n",
    "    return jsonify(result)\n",
    "    \n",
    "@app.route(\"/api/v1.0/<start>\")\n",
    "def fromstartdate(start):\n",
    "    session = Session(engine)\n",
    "    qry_fr_start_date = session.query(\n",
    "            func.max(Measurement.tobs).label(\"TMAX\"),\n",
    "            func.avg(Measurement.tobs).label(\"TAVG\"),\n",
    "            func.min(Measurement.tobs).label(\"TMIN\")\n",
    "            ).\\\n",
    "        filter(Measurement.date >= start).all()\n",
    "\n",
    "    df_fr_start_date = pd.DataFrame(qry_fr_start_date, columns=['TMAX', 'TAVG', 'TMIN'])\n",
    "    result = df_fr_start_date.iloc[0].to_dict()\n"
   ]
  },
  {
   "cell_type": "code",
   "execution_count": null,
   "id": "57342c18",
   "metadata": {},
   "outputs": [],
   "source": [
    "session.close()\n",
    "    return jsonify(result)"
   ]
  },
  {
   "cell_type": "code",
   "execution_count": null,
   "id": "86fb2224",
   "metadata": {},
   "outputs": [],
   "source": [
    "@app.route(\"/api/v1.0/<start>/<end>\")\n",
    "def fromrange(start,end):\n",
    "    session = Session(engine)\n",
    "    qry_fromrange = session.query(\n",
    "            func.max(Measurement.tobs).label(\"TMAX\"),\n",
    "            func.avg(Measurement.tobs).label(\"TAVG\"),\n",
    "            func.min(Measurement.tobs).label(\"TMIN\")\n",
    "            ).\\\n",
    "        filter(Measurement.date >= start, Measurement.date <= end).all()\n",
    "\n",
    "    df_fromrange = pd.DataFrame(qry_fromrange, columns=['TMAX', 'TAVG', 'TMIN'])\n",
    "    result = df_fromrange.iloc[0].to_dict()\n",
    "\n",
    "    session.close()\n",
    "    return jsonify(result)\n",
    "\n",
    "\n",
    "\n",
    "    return f\"Start {start}? End: {end}\"\n",
    "\n",
    "if __name__ == \"__main__\":\n",
    "    app.run(debug=True)"
   ]
  },
  {
   "cell_type": "code",
   "execution_count": null,
   "id": "68385aa2",
   "metadata": {},
   "outputs": [],
   "source": []
  }
 ],
 "metadata": {
  "kernelspec": {
   "display_name": "Python 3 (ipykernel)",
   "language": "python",
   "name": "python3"
  },
  "language_info": {
   "codemirror_mode": {
    "name": "ipython",
    "version": 3
   },
   "file_extension": ".py",
   "mimetype": "text/x-python",
   "name": "python",
   "nbconvert_exporter": "python",
   "pygments_lexer": "ipython3",
   "version": "3.9.12"
  }
 },
 "nbformat": 4,
 "nbformat_minor": 5
}
